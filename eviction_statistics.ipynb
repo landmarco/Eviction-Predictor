{
 "cells": [
  {
   "cell_type": "code",
   "execution_count": 2,
   "metadata": {},
   "outputs": [],
   "source": [
    "import pandas as pd\n",
    "import numpy as np\n",
    "import matplotlib.pyplot as plt\n",
    "import matplotlib.ticker\n",
    "import seaborn as sns\n",
    "matplotlib.rcParams.update({'font.size': 16})\n",
    "%matplotlib inline\n",
    "\n",
    "pd.options.display.max_columns = 100"
   ]
  },
  {
   "cell_type": "markdown",
   "metadata": {},
   "source": [
    "# Eviction Data by Country, USA"
   ]
  },
  {
   "cell_type": "markdown",
   "metadata": {},
   "source": [
    "To calculate eviction and filing rates, we divided the number of evictions and filings by the\n",
    "number of renter-occupied households in that area.\n"
   ]
  },
  {
   "cell_type": "code",
   "execution_count": 3,
   "metadata": {
    "scrolled": false
   },
   "outputs": [
    {
     "data": {
      "text/html": [
       "<div>\n",
       "<style scoped>\n",
       "    .dataframe tbody tr th:only-of-type {\n",
       "        vertical-align: middle;\n",
       "    }\n",
       "\n",
       "    .dataframe tbody tr th {\n",
       "        vertical-align: top;\n",
       "    }\n",
       "\n",
       "    .dataframe thead th {\n",
       "        text-align: right;\n",
       "    }\n",
       "</style>\n",
       "<table border=\"1\" class=\"dataframe\">\n",
       "  <thead>\n",
       "    <tr style=\"text-align: right;\">\n",
       "      <th></th>\n",
       "      <th>GEOID</th>\n",
       "      <th>year</th>\n",
       "      <th>population</th>\n",
       "      <th>poverty_rate</th>\n",
       "      <th>pct_renter_occupied</th>\n",
       "      <th>median_gross_rent</th>\n",
       "      <th>median_household_income</th>\n",
       "      <th>median_property_value</th>\n",
       "      <th>rent_burden</th>\n",
       "      <th>pct_white</th>\n",
       "      <th>pct_af_am</th>\n",
       "      <th>pct_hispanic</th>\n",
       "      <th>pct_am_ind</th>\n",
       "      <th>pct_asian</th>\n",
       "      <th>pct_nh_pi</th>\n",
       "      <th>pct_multiple</th>\n",
       "      <th>pct_other</th>\n",
       "      <th>renter_occupied_households</th>\n",
       "      <th>eviction_filings</th>\n",
       "      <th>evictions</th>\n",
       "      <th>eviction_rate</th>\n",
       "      <th>eviction_filing_rate</th>\n",
       "      <th>imputed</th>\n",
       "      <th>subbed</th>\n",
       "    </tr>\n",
       "  </thead>\n",
       "  <tbody>\n",
       "    <tr>\n",
       "      <th>count</th>\n",
       "      <td>41299.000000</td>\n",
       "      <td>41299.000000</td>\n",
       "      <td>4.129900e+04</td>\n",
       "      <td>41299.000000</td>\n",
       "      <td>41299.000000</td>\n",
       "      <td>41299.000000</td>\n",
       "      <td>41299.000000</td>\n",
       "      <td>4.129900e+04</td>\n",
       "      <td>41299.000000</td>\n",
       "      <td>41299.000000</td>\n",
       "      <td>41299.000000</td>\n",
       "      <td>41299.000000</td>\n",
       "      <td>41299.000000</td>\n",
       "      <td>41299.000000</td>\n",
       "      <td>41299.000000</td>\n",
       "      <td>41299.000000</td>\n",
       "      <td>41299.000000</td>\n",
       "      <td>4.129900e+04</td>\n",
       "      <td>41299.000000</td>\n",
       "      <td>41299.000000</td>\n",
       "      <td>41299.000000</td>\n",
       "      <td>41299.000000</td>\n",
       "      <td>41299.000000</td>\n",
       "      <td>41299.000000</td>\n",
       "    </tr>\n",
       "    <tr>\n",
       "      <th>mean</th>\n",
       "      <td>30928.597956</td>\n",
       "      <td>2008.187753</td>\n",
       "      <td>9.717697e+04</td>\n",
       "      <td>12.410998</td>\n",
       "      <td>26.820699</td>\n",
       "      <td>592.652970</td>\n",
       "      <td>42136.557350</td>\n",
       "      <td>1.164624e+05</td>\n",
       "      <td>26.821584</td>\n",
       "      <td>79.966203</td>\n",
       "      <td>8.409063</td>\n",
       "      <td>7.861583</td>\n",
       "      <td>1.186445</td>\n",
       "      <td>0.994529</td>\n",
       "      <td>0.063298</td>\n",
       "      <td>1.431872</td>\n",
       "      <td>0.087025</td>\n",
       "      <td>1.301934e+04</td>\n",
       "      <td>892.026490</td>\n",
       "      <td>374.336449</td>\n",
       "      <td>1.678239</td>\n",
       "      <td>3.201757</td>\n",
       "      <td>0.014819</td>\n",
       "      <td>0.015860</td>\n",
       "    </tr>\n",
       "    <tr>\n",
       "      <th>std</th>\n",
       "      <td>14754.405831</td>\n",
       "      <td>4.819986</td>\n",
       "      <td>3.287348e+05</td>\n",
       "      <td>5.813251</td>\n",
       "      <td>7.648861</td>\n",
       "      <td>189.157504</td>\n",
       "      <td>11524.034138</td>\n",
       "      <td>7.300267e+04</td>\n",
       "      <td>4.754268</td>\n",
       "      <td>18.957256</td>\n",
       "      <td>14.113073</td>\n",
       "      <td>13.083396</td>\n",
       "      <td>4.495723</td>\n",
       "      <td>2.096220</td>\n",
       "      <td>0.611061</td>\n",
       "      <td>1.426454</td>\n",
       "      <td>0.150616</td>\n",
       "      <td>5.425438e+04</td>\n",
       "      <td>4419.432913</td>\n",
       "      <td>1543.484514</td>\n",
       "      <td>1.977446</td>\n",
       "      <td>5.027240</td>\n",
       "      <td>0.120828</td>\n",
       "      <td>0.124935</td>\n",
       "    </tr>\n",
       "    <tr>\n",
       "      <th>min</th>\n",
       "      <td>1001.000000</td>\n",
       "      <td>2000.000000</td>\n",
       "      <td>6.700000e+01</td>\n",
       "      <td>0.000000</td>\n",
       "      <td>7.350000</td>\n",
       "      <td>178.000000</td>\n",
       "      <td>9333.000000</td>\n",
       "      <td>0.000000e+00</td>\n",
       "      <td>8.300000</td>\n",
       "      <td>2.860000</td>\n",
       "      <td>0.000000</td>\n",
       "      <td>0.000000</td>\n",
       "      <td>0.000000</td>\n",
       "      <td>0.000000</td>\n",
       "      <td>0.000000</td>\n",
       "      <td>0.000000</td>\n",
       "      <td>0.000000</td>\n",
       "      <td>5.000000e+00</td>\n",
       "      <td>0.000000</td>\n",
       "      <td>0.000000</td>\n",
       "      <td>0.000000</td>\n",
       "      <td>0.000000</td>\n",
       "      <td>0.000000</td>\n",
       "      <td>0.000000</td>\n",
       "    </tr>\n",
       "    <tr>\n",
       "      <th>25%</th>\n",
       "      <td>19089.000000</td>\n",
       "      <td>2004.000000</td>\n",
       "      <td>1.044500e+04</td>\n",
       "      <td>8.300000</td>\n",
       "      <td>21.740000</td>\n",
       "      <td>464.000000</td>\n",
       "      <td>34202.000000</td>\n",
       "      <td>7.470000e+04</td>\n",
       "      <td>23.600000</td>\n",
       "      <td>69.460000</td>\n",
       "      <td>0.420000</td>\n",
       "      <td>1.310000</td>\n",
       "      <td>0.140000</td>\n",
       "      <td>0.190000</td>\n",
       "      <td>0.000000</td>\n",
       "      <td>0.710000</td>\n",
       "      <td>0.000000</td>\n",
       "      <td>9.710000e+02</td>\n",
       "      <td>5.000000</td>\n",
       "      <td>3.000000</td>\n",
       "      <td>0.320000</td>\n",
       "      <td>0.490000</td>\n",
       "      <td>0.000000</td>\n",
       "      <td>0.000000</td>\n",
       "    </tr>\n",
       "    <tr>\n",
       "      <th>50%</th>\n",
       "      <td>29181.000000</td>\n",
       "      <td>2008.000000</td>\n",
       "      <td>2.351300e+04</td>\n",
       "      <td>11.460000</td>\n",
       "      <td>25.540000</td>\n",
       "      <td>571.000000</td>\n",
       "      <td>40657.000000</td>\n",
       "      <td>9.640000e+04</td>\n",
       "      <td>26.800000</td>\n",
       "      <td>87.330000</td>\n",
       "      <td>1.810000</td>\n",
       "      <td>2.810000</td>\n",
       "      <td>0.270000</td>\n",
       "      <td>0.430000</td>\n",
       "      <td>0.010000</td>\n",
       "      <td>1.130000</td>\n",
       "      <td>0.040000</td>\n",
       "      <td>2.315000e+03</td>\n",
       "      <td>37.000000</td>\n",
       "      <td>25.000000</td>\n",
       "      <td>1.110000</td>\n",
       "      <td>1.630000</td>\n",
       "      <td>0.000000</td>\n",
       "      <td>0.000000</td>\n",
       "    </tr>\n",
       "    <tr>\n",
       "      <th>75%</th>\n",
       "      <td>45086.000000</td>\n",
       "      <td>2012.000000</td>\n",
       "      <td>6.268300e+04</td>\n",
       "      <td>15.315000</td>\n",
       "      <td>30.430000</td>\n",
       "      <td>680.000000</td>\n",
       "      <td>48007.000000</td>\n",
       "      <td>1.363000e+05</td>\n",
       "      <td>29.800000</td>\n",
       "      <td>94.790000</td>\n",
       "      <td>9.250000</td>\n",
       "      <td>7.620000</td>\n",
       "      <td>0.580000</td>\n",
       "      <td>0.920000</td>\n",
       "      <td>0.040000</td>\n",
       "      <td>1.710000</td>\n",
       "      <td>0.110000</td>\n",
       "      <td>6.844500e+03</td>\n",
       "      <td>240.000000</td>\n",
       "      <td>140.000000</td>\n",
       "      <td>2.320000</td>\n",
       "      <td>3.800000</td>\n",
       "      <td>0.000000</td>\n",
       "      <td>0.000000</td>\n",
       "    </tr>\n",
       "    <tr>\n",
       "      <th>max</th>\n",
       "      <td>56045.000000</td>\n",
       "      <td>2016.000000</td>\n",
       "      <td>1.003839e+07</td>\n",
       "      <td>45.380000</td>\n",
       "      <td>100.000000</td>\n",
       "      <td>1827.000000</td>\n",
       "      <td>123453.000000</td>\n",
       "      <td>1.000001e+06</td>\n",
       "      <td>50.100000</td>\n",
       "      <td>100.000000</td>\n",
       "      <td>86.760000</td>\n",
       "      <td>95.680000</td>\n",
       "      <td>84.960000</td>\n",
       "      <td>45.260000</td>\n",
       "      <td>48.300000</td>\n",
       "      <td>23.490000</td>\n",
       "      <td>4.900000</td>\n",
       "      <td>1.792186e+06</td>\n",
       "      <td>143753.000000</td>\n",
       "      <td>47716.000000</td>\n",
       "      <td>24.160000</td>\n",
       "      <td>118.620000</td>\n",
       "      <td>1.000000</td>\n",
       "      <td>1.000000</td>\n",
       "    </tr>\n",
       "  </tbody>\n",
       "</table>\n",
       "</div>"
      ],
      "text/plain": [
       "              GEOID          year    population  poverty_rate  \\\n",
       "count  41299.000000  41299.000000  4.129900e+04  41299.000000   \n",
       "mean   30928.597956   2008.187753  9.717697e+04     12.410998   \n",
       "std    14754.405831      4.819986  3.287348e+05      5.813251   \n",
       "min     1001.000000   2000.000000  6.700000e+01      0.000000   \n",
       "25%    19089.000000   2004.000000  1.044500e+04      8.300000   \n",
       "50%    29181.000000   2008.000000  2.351300e+04     11.460000   \n",
       "75%    45086.000000   2012.000000  6.268300e+04     15.315000   \n",
       "max    56045.000000   2016.000000  1.003839e+07     45.380000   \n",
       "\n",
       "       pct_renter_occupied  median_gross_rent  median_household_income  \\\n",
       "count         41299.000000       41299.000000             41299.000000   \n",
       "mean             26.820699         592.652970             42136.557350   \n",
       "std               7.648861         189.157504             11524.034138   \n",
       "min               7.350000         178.000000              9333.000000   \n",
       "25%              21.740000         464.000000             34202.000000   \n",
       "50%              25.540000         571.000000             40657.000000   \n",
       "75%              30.430000         680.000000             48007.000000   \n",
       "max             100.000000        1827.000000            123453.000000   \n",
       "\n",
       "       median_property_value   rent_burden     pct_white     pct_af_am  \\\n",
       "count           4.129900e+04  41299.000000  41299.000000  41299.000000   \n",
       "mean            1.164624e+05     26.821584     79.966203      8.409063   \n",
       "std             7.300267e+04      4.754268     18.957256     14.113073   \n",
       "min             0.000000e+00      8.300000      2.860000      0.000000   \n",
       "25%             7.470000e+04     23.600000     69.460000      0.420000   \n",
       "50%             9.640000e+04     26.800000     87.330000      1.810000   \n",
       "75%             1.363000e+05     29.800000     94.790000      9.250000   \n",
       "max             1.000001e+06     50.100000    100.000000     86.760000   \n",
       "\n",
       "       pct_hispanic    pct_am_ind     pct_asian     pct_nh_pi  pct_multiple  \\\n",
       "count  41299.000000  41299.000000  41299.000000  41299.000000  41299.000000   \n",
       "mean       7.861583      1.186445      0.994529      0.063298      1.431872   \n",
       "std       13.083396      4.495723      2.096220      0.611061      1.426454   \n",
       "min        0.000000      0.000000      0.000000      0.000000      0.000000   \n",
       "25%        1.310000      0.140000      0.190000      0.000000      0.710000   \n",
       "50%        2.810000      0.270000      0.430000      0.010000      1.130000   \n",
       "75%        7.620000      0.580000      0.920000      0.040000      1.710000   \n",
       "max       95.680000     84.960000     45.260000     48.300000     23.490000   \n",
       "\n",
       "          pct_other  renter_occupied_households  eviction_filings  \\\n",
       "count  41299.000000                4.129900e+04      41299.000000   \n",
       "mean       0.087025                1.301934e+04        892.026490   \n",
       "std        0.150616                5.425438e+04       4419.432913   \n",
       "min        0.000000                5.000000e+00          0.000000   \n",
       "25%        0.000000                9.710000e+02          5.000000   \n",
       "50%        0.040000                2.315000e+03         37.000000   \n",
       "75%        0.110000                6.844500e+03        240.000000   \n",
       "max        4.900000                1.792186e+06     143753.000000   \n",
       "\n",
       "          evictions  eviction_rate  eviction_filing_rate       imputed  \\\n",
       "count  41299.000000   41299.000000          41299.000000  41299.000000   \n",
       "mean     374.336449       1.678239              3.201757      0.014819   \n",
       "std     1543.484514       1.977446              5.027240      0.120828   \n",
       "min        0.000000       0.000000              0.000000      0.000000   \n",
       "25%        3.000000       0.320000              0.490000      0.000000   \n",
       "50%       25.000000       1.110000              1.630000      0.000000   \n",
       "75%      140.000000       2.320000              3.800000      0.000000   \n",
       "max    47716.000000      24.160000            118.620000      1.000000   \n",
       "\n",
       "             subbed  \n",
       "count  41299.000000  \n",
       "mean       0.015860  \n",
       "std        0.124935  \n",
       "min        0.000000  \n",
       "25%        0.000000  \n",
       "50%        0.000000  \n",
       "75%        0.000000  \n",
       "max        1.000000  "
      ]
     },
     "execution_count": 3,
     "metadata": {},
     "output_type": "execute_result"
    }
   ],
   "source": [
    "df = pd.read_csv(\"data/counties_US.csv\")\n",
    "df.dropna(axis=0, how='any', inplace=True)\n",
    "#print(df.iloc[0])\n",
    "columns = df.columns\n",
    "renames = {}\n",
    "for col in columns:\n",
    "    renames[col] = col.replace('-', '_')\n",
    "df = df.rename(columns=renames)\n",
    "df.describe()"
   ]
  },
  {
   "cell_type": "code",
   "execution_count": 4,
   "metadata": {
    "scrolled": true
   },
   "outputs": [
    {
     "data": {
      "text/html": [
       "<div>\n",
       "<style scoped>\n",
       "    .dataframe tbody tr th:only-of-type {\n",
       "        vertical-align: middle;\n",
       "    }\n",
       "\n",
       "    .dataframe tbody tr th {\n",
       "        vertical-align: top;\n",
       "    }\n",
       "\n",
       "    .dataframe thead th {\n",
       "        text-align: right;\n",
       "    }\n",
       "</style>\n",
       "<table border=\"1\" class=\"dataframe\">\n",
       "  <thead>\n",
       "    <tr style=\"text-align: right;\">\n",
       "      <th></th>\n",
       "      <th>name</th>\n",
       "      <th>parent_location</th>\n",
       "      <th>GEOID</th>\n",
       "      <th>year</th>\n",
       "      <th>population</th>\n",
       "      <th>poverty_rate</th>\n",
       "      <th>pct_renter_occupied</th>\n",
       "      <th>median_gross_rent</th>\n",
       "      <th>median_household_income</th>\n",
       "      <th>median_property_value</th>\n",
       "      <th>rent_burden</th>\n",
       "      <th>pct_white</th>\n",
       "      <th>pct_af_am</th>\n",
       "      <th>pct_hispanic</th>\n",
       "      <th>pct_am_ind</th>\n",
       "      <th>pct_asian</th>\n",
       "      <th>pct_nh_pi</th>\n",
       "      <th>pct_multiple</th>\n",
       "      <th>pct_other</th>\n",
       "      <th>renter_occupied_households</th>\n",
       "      <th>eviction_filings</th>\n",
       "      <th>evictions</th>\n",
       "      <th>eviction_rate</th>\n",
       "      <th>eviction_filing_rate</th>\n",
       "      <th>imputed</th>\n",
       "      <th>subbed</th>\n",
       "    </tr>\n",
       "  </thead>\n",
       "  <tbody>\n",
       "    <tr>\n",
       "      <th>0</th>\n",
       "      <td>Abbeville County</td>\n",
       "      <td>South Carolina</td>\n",
       "      <td>45001.0</td>\n",
       "      <td>2013.000000</td>\n",
       "      <td>25057.000000</td>\n",
       "      <td>16.762857</td>\n",
       "      <td>21.271429</td>\n",
       "      <td>566.428571</td>\n",
       "      <td>34837.285714</td>\n",
       "      <td>88585.714286</td>\n",
       "      <td>38.471429</td>\n",
       "      <td>68.945714</td>\n",
       "      <td>27.981429</td>\n",
       "      <td>1.171429</td>\n",
       "      <td>0.144286</td>\n",
       "      <td>0.042857</td>\n",
       "      <td>0.002857</td>\n",
       "      <td>1.698571</td>\n",
       "      <td>0.012857</td>\n",
       "      <td>2429.000000</td>\n",
       "      <td>319.285714</td>\n",
       "      <td>60.428571</td>\n",
       "      <td>2.454286</td>\n",
       "      <td>13.152857</td>\n",
       "      <td>0.000000</td>\n",
       "      <td>0.0</td>\n",
       "    </tr>\n",
       "    <tr>\n",
       "      <th>1</th>\n",
       "      <td>Acadia Parish</td>\n",
       "      <td>Louisiana</td>\n",
       "      <td>22001.0</td>\n",
       "      <td>2007.230769</td>\n",
       "      <td>60137.384615</td>\n",
       "      <td>19.457692</td>\n",
       "      <td>29.153077</td>\n",
       "      <td>453.000000</td>\n",
       "      <td>32906.076923</td>\n",
       "      <td>78823.076923</td>\n",
       "      <td>26.423077</td>\n",
       "      <td>78.938462</td>\n",
       "      <td>18.106923</td>\n",
       "      <td>1.351538</td>\n",
       "      <td>0.164615</td>\n",
       "      <td>0.222308</td>\n",
       "      <td>0.047692</td>\n",
       "      <td>1.016923</td>\n",
       "      <td>0.150769</td>\n",
       "      <td>6571.923077</td>\n",
       "      <td>185.461538</td>\n",
       "      <td>65.384615</td>\n",
       "      <td>0.980000</td>\n",
       "      <td>2.835385</td>\n",
       "      <td>0.307692</td>\n",
       "      <td>0.0</td>\n",
       "    </tr>\n",
       "    <tr>\n",
       "      <th>2</th>\n",
       "      <td>Accomack County</td>\n",
       "      <td>Virginia</td>\n",
       "      <td>51001.0</td>\n",
       "      <td>2008.000000</td>\n",
       "      <td>36234.647059</td>\n",
       "      <td>13.515882</td>\n",
       "      <td>26.296471</td>\n",
       "      <td>635.823529</td>\n",
       "      <td>37071.588235</td>\n",
       "      <td>129300.000000</td>\n",
       "      <td>25.294118</td>\n",
       "      <td>61.233529</td>\n",
       "      <td>29.431765</td>\n",
       "      <td>7.777647</td>\n",
       "      <td>0.267059</td>\n",
       "      <td>0.230588</td>\n",
       "      <td>0.014706</td>\n",
       "      <td>0.951765</td>\n",
       "      <td>0.082941</td>\n",
       "      <td>3904.764706</td>\n",
       "      <td>128.529412</td>\n",
       "      <td>93.823529</td>\n",
       "      <td>2.403529</td>\n",
       "      <td>3.270000</td>\n",
       "      <td>0.000000</td>\n",
       "      <td>0.0</td>\n",
       "    </tr>\n",
       "    <tr>\n",
       "      <th>3</th>\n",
       "      <td>Ada County</td>\n",
       "      <td>Idaho</td>\n",
       "      <td>16001.0</td>\n",
       "      <td>2008.000000</td>\n",
       "      <td>367402.705882</td>\n",
       "      <td>7.542353</td>\n",
       "      <td>30.837647</td>\n",
       "      <td>756.294118</td>\n",
       "      <td>53163.235294</td>\n",
       "      <td>175800.000000</td>\n",
       "      <td>28.105882</td>\n",
       "      <td>87.654706</td>\n",
       "      <td>0.936471</td>\n",
       "      <td>6.360588</td>\n",
       "      <td>0.510588</td>\n",
       "      <td>2.218824</td>\n",
       "      <td>0.171765</td>\n",
       "      <td>2.017059</td>\n",
       "      <td>0.132941</td>\n",
       "      <td>44381.470588</td>\n",
       "      <td>954.294118</td>\n",
       "      <td>542.705882</td>\n",
       "      <td>1.283529</td>\n",
       "      <td>2.188235</td>\n",
       "      <td>0.000000</td>\n",
       "      <td>0.0</td>\n",
       "    </tr>\n",
       "    <tr>\n",
       "      <th>4</th>\n",
       "      <td>Adair County</td>\n",
       "      <td>Iowa</td>\n",
       "      <td>19001.0</td>\n",
       "      <td>2008.000000</td>\n",
       "      <td>7719.294118</td>\n",
       "      <td>6.640000</td>\n",
       "      <td>24.410000</td>\n",
       "      <td>484.058824</td>\n",
       "      <td>42374.000000</td>\n",
       "      <td>81900.000000</td>\n",
       "      <td>22.411765</td>\n",
       "      <td>97.903529</td>\n",
       "      <td>0.155882</td>\n",
       "      <td>1.017647</td>\n",
       "      <td>0.066471</td>\n",
       "      <td>0.247647</td>\n",
       "      <td>0.000588</td>\n",
       "      <td>0.588824</td>\n",
       "      <td>0.019412</td>\n",
       "      <td>802.764706</td>\n",
       "      <td>6.117647</td>\n",
       "      <td>5.235294</td>\n",
       "      <td>0.654706</td>\n",
       "      <td>0.765882</td>\n",
       "      <td>0.000000</td>\n",
       "      <td>0.0</td>\n",
       "    </tr>\n",
       "  </tbody>\n",
       "</table>\n",
       "</div>"
      ],
      "text/plain": [
       "               name parent_location    GEOID         year     population  \\\n",
       "0  Abbeville County  South Carolina  45001.0  2013.000000   25057.000000   \n",
       "1     Acadia Parish       Louisiana  22001.0  2007.230769   60137.384615   \n",
       "2   Accomack County        Virginia  51001.0  2008.000000   36234.647059   \n",
       "3        Ada County           Idaho  16001.0  2008.000000  367402.705882   \n",
       "4      Adair County            Iowa  19001.0  2008.000000    7719.294118   \n",
       "\n",
       "   poverty_rate  pct_renter_occupied  median_gross_rent  \\\n",
       "0     16.762857            21.271429         566.428571   \n",
       "1     19.457692            29.153077         453.000000   \n",
       "2     13.515882            26.296471         635.823529   \n",
       "3      7.542353            30.837647         756.294118   \n",
       "4      6.640000            24.410000         484.058824   \n",
       "\n",
       "   median_household_income  median_property_value  rent_burden  pct_white  \\\n",
       "0             34837.285714           88585.714286    38.471429  68.945714   \n",
       "1             32906.076923           78823.076923    26.423077  78.938462   \n",
       "2             37071.588235          129300.000000    25.294118  61.233529   \n",
       "3             53163.235294          175800.000000    28.105882  87.654706   \n",
       "4             42374.000000           81900.000000    22.411765  97.903529   \n",
       "\n",
       "   pct_af_am  pct_hispanic  pct_am_ind  pct_asian  pct_nh_pi  pct_multiple  \\\n",
       "0  27.981429      1.171429    0.144286   0.042857   0.002857      1.698571   \n",
       "1  18.106923      1.351538    0.164615   0.222308   0.047692      1.016923   \n",
       "2  29.431765      7.777647    0.267059   0.230588   0.014706      0.951765   \n",
       "3   0.936471      6.360588    0.510588   2.218824   0.171765      2.017059   \n",
       "4   0.155882      1.017647    0.066471   0.247647   0.000588      0.588824   \n",
       "\n",
       "   pct_other  renter_occupied_households  eviction_filings   evictions  \\\n",
       "0   0.012857                 2429.000000        319.285714   60.428571   \n",
       "1   0.150769                 6571.923077        185.461538   65.384615   \n",
       "2   0.082941                 3904.764706        128.529412   93.823529   \n",
       "3   0.132941                44381.470588        954.294118  542.705882   \n",
       "4   0.019412                  802.764706          6.117647    5.235294   \n",
       "\n",
       "   eviction_rate  eviction_filing_rate   imputed  subbed  \n",
       "0       2.454286             13.152857  0.000000     0.0  \n",
       "1       0.980000              2.835385  0.307692     0.0  \n",
       "2       2.403529              3.270000  0.000000     0.0  \n",
       "3       1.283529              2.188235  0.000000     0.0  \n",
       "4       0.654706              0.765882  0.000000     0.0  "
      ]
     },
     "execution_count": 4,
     "metadata": {},
     "output_type": "execute_result"
    }
   ],
   "source": [
    "df_year = df.groupby(['name','parent_location'],as_index=False).mean()\n",
    "df_year.head()"
   ]
  },
  {
   "cell_type": "code",
   "execution_count": 106,
   "metadata": {
    "scrolled": true
   },
   "outputs": [
    {
     "data": {
      "text/plain": [
       "<matplotlib.axes._subplots.AxesSubplot at 0x1144ebd30>"
      ]
     },
     "execution_count": 106,
     "metadata": {},
     "output_type": "execute_result"
    },
    {
     "data": {
      "image/png": "[encoded data removed]",
      "text/plain": [
       "<Figure size 432x288 with 1 Axes>"
      ]
     },
     "metadata": {},
     "output_type": "display_data"
    }
   ],
   "source": [
    "df_year.rent_burden.hist(bins = 20)"
   ]
  },
  {
   "cell_type": "code",
   "execution_count": 5,
   "metadata": {
    "scrolled": false
   },
   "outputs": [
    {
     "data": {
      "text/plain": [
       "<matplotlib.axes._subplots.AxesSubplot at 0x10bc1a160>"
      ]
     },
     "execution_count": 5,
     "metadata": {},
     "output_type": "execute_result"
    },
    {
     "data": {
      "image/png": "[encoded data removed]",
      "text/plain": [
       "<Figure size 432x288 with 1 Axes>"
      ]
     },
     "metadata": {},
     "output_type": "display_data"
    }
   ],
   "source": [
    "df_year.pct_renter_occupied.hist(bins = 30)"
   ]
  },
  {
   "cell_type": "code",
   "execution_count": 137,
   "metadata": {},
   "outputs": [
    {
     "data": {
      "text/html": [
       "<div>\n",
       "<style scoped>\n",
       "    .dataframe tbody tr th:only-of-type {\n",
       "        vertical-align: middle;\n",
       "    }\n",
       "\n",
       "    .dataframe tbody tr th {\n",
       "        vertical-align: top;\n",
       "    }\n",
       "\n",
       "    .dataframe thead th {\n",
       "        text-align: right;\n",
       "    }\n",
       "</style>\n",
       "<table border=\"1\" class=\"dataframe\">\n",
       "  <thead>\n",
       "    <tr style=\"text-align: right;\">\n",
       "      <th></th>\n",
       "      <th>rent_burden</th>\n",
       "      <th>pct_renter_occupied</th>\n",
       "    </tr>\n",
       "  </thead>\n",
       "  <tbody>\n",
       "    <tr>\n",
       "      <th>count</th>\n",
       "      <td>2762.000000</td>\n",
       "      <td>2762.000000</td>\n",
       "    </tr>\n",
       "    <tr>\n",
       "      <th>mean</th>\n",
       "      <td>27.000278</td>\n",
       "      <td>27.150550</td>\n",
       "    </tr>\n",
       "    <tr>\n",
       "      <th>std</th>\n",
       "      <td>3.645831</td>\n",
       "      <td>7.607976</td>\n",
       "    </tr>\n",
       "    <tr>\n",
       "      <th>min</th>\n",
       "      <td>9.470588</td>\n",
       "      <td>10.408824</td>\n",
       "    </tr>\n",
       "    <tr>\n",
       "      <th>25%</th>\n",
       "      <td>24.747794</td>\n",
       "      <td>22.184118</td>\n",
       "    </tr>\n",
       "    <tr>\n",
       "      <th>50%</th>\n",
       "      <td>27.032353</td>\n",
       "      <td>25.812463</td>\n",
       "    </tr>\n",
       "    <tr>\n",
       "      <th>75%</th>\n",
       "      <td>29.159286</td>\n",
       "      <td>30.567647</td>\n",
       "    </tr>\n",
       "    <tr>\n",
       "      <th>max</th>\n",
       "      <td>45.675000</td>\n",
       "      <td>100.000000</td>\n",
       "    </tr>\n",
       "  </tbody>\n",
       "</table>\n",
       "</div>"
      ],
      "text/plain": [
       "       rent_burden  pct_renter_occupied\n",
       "count  2762.000000          2762.000000\n",
       "mean     27.000278            27.150550\n",
       "std       3.645831             7.607976\n",
       "min       9.470588            10.408824\n",
       "25%      24.747794            22.184118\n",
       "50%      27.032353            25.812463\n",
       "75%      29.159286            30.567647\n",
       "max      45.675000           100.000000"
      ]
     },
     "execution_count": 137,
     "metadata": {},
     "output_type": "execute_result"
    }
   ],
   "source": [
    "df_year[['rent_burden', 'pct_renter_occupied']].describe()"
   ]
  },
  {
   "cell_type": "code",
   "execution_count": 6,
   "metadata": {
    "scrolled": false
   },
   "outputs": [
    {
     "data": {
      "text/html": [
       "<div>\n",
       "<style scoped>\n",
       "    .dataframe tbody tr th:only-of-type {\n",
       "        vertical-align: middle;\n",
       "    }\n",
       "\n",
       "    .dataframe tbody tr th {\n",
       "        vertical-align: top;\n",
       "    }\n",
       "\n",
       "    .dataframe thead th {\n",
       "        text-align: right;\n",
       "    }\n",
       "</style>\n",
       "<table border=\"1\" class=\"dataframe\">\n",
       "  <thead>\n",
       "    <tr style=\"text-align: right;\">\n",
       "      <th></th>\n",
       "      <th>rent_burden</th>\n",
       "      <th>pct_renter_occupied</th>\n",
       "    </tr>\n",
       "  </thead>\n",
       "  <tbody>\n",
       "    <tr>\n",
       "      <th>2217</th>\n",
       "      <td>29.093333</td>\n",
       "      <td>39.562</td>\n",
       "    </tr>\n",
       "  </tbody>\n",
       "</table>\n",
       "</div>"
      ],
      "text/plain": [
       "      rent_burden  pct_renter_occupied\n",
       "2217    29.093333               39.562"
      ]
     },
     "execution_count": 6,
     "metadata": {},
     "output_type": "execute_result"
    }
   ],
   "source": [
    "df_year.loc[df_year['name'] == 'San Mateo County', ['rent_burden','pct_renter_occupied']]"
   ]
  },
  {
   "cell_type": "markdown",
   "metadata": {},
   "source": [
    "# Null hypothesis: No difference exist between the rent burden of Santa Clara County with nationwide rent burden average by counties (average over the year 2000 - 2016)"
   ]
  },
  {
   "cell_type": "code",
   "execution_count": 133,
   "metadata": {
    "scrolled": true
   },
   "outputs": [
    {
     "data": {
      "text/html": [
       "<div>\n",
       "<style scoped>\n",
       "    .dataframe tbody tr th:only-of-type {\n",
       "        vertical-align: middle;\n",
       "    }\n",
       "\n",
       "    .dataframe tbody tr th {\n",
       "        vertical-align: top;\n",
       "    }\n",
       "\n",
       "    .dataframe thead th {\n",
       "        text-align: right;\n",
       "    }\n",
       "</style>\n",
       "<table border=\"1\" class=\"dataframe\">\n",
       "  <thead>\n",
       "    <tr style=\"text-align: right;\">\n",
       "      <th></th>\n",
       "      <th>rent_burden</th>\n",
       "      <th>pct_renter_occupied</th>\n",
       "    </tr>\n",
       "  </thead>\n",
       "  <tbody>\n",
       "    <tr>\n",
       "      <th>2229</th>\n",
       "      <td>27.8</td>\n",
       "      <td>41.992</td>\n",
       "    </tr>\n",
       "  </tbody>\n",
       "</table>\n",
       "</div>"
      ],
      "text/plain": [
       "      rent_burden  pct_renter_occupied\n",
       "2229         27.8               41.992"
      ]
     },
     "execution_count": 133,
     "metadata": {},
     "output_type": "execute_result"
    }
   ],
   "source": [
    "df_year.loc[df_year.name == 'Santa Clara County', ['rent_burden', 'pct_renter_occupied']]"
   ]
  },
  {
   "cell_type": "code",
   "execution_count": 145,
   "metadata": {},
   "outputs": [
    {
     "name": "stdout",
     "output_type": "stream",
     "text": [
      "t value:11.53, outlier? (95% one-tail) True\n"
     ]
    }
   ],
   "source": [
    "t = (27.8 - 27.000278) /( 3.645831 / np.sqrt(2762))\n",
    "# 95% one tail t test 1.645\n",
    "print(\"t value:{:.2f}, outlier? (95% one-tail) {}\".format(t, t>1.645))"
   ]
  },
  {
   "cell_type": "markdown",
   "metadata": {},
   "source": [
    "# Null hypothesis: No difference exist between the percentage of renters households of Santa Clara County with nationwide rent burden average by counties (average over the year 2000 - 2016)"
   ]
  },
  {
   "cell_type": "code",
   "execution_count": 146,
   "metadata": {},
   "outputs": [
    {
     "name": "stdout",
     "output_type": "stream",
     "text": [
      "t value:102.52, outlier? (95% one-tail) True\n"
     ]
    }
   ],
   "source": [
    "t = (41.992 - 27.150550) / (7.607976 / np.sqrt(2762))\n",
    "# 95% one tail t test 1.645\n",
    "print(\"t value:{:.2f}, outlier? (95% one-tail) {}\".format(t, t>1.645))"
   ]
  },
  {
   "cell_type": "markdown",
   "metadata": {},
   "source": [
    "# Year 2016\n",
    "The official poverty rate is 12.7 percent, based on the U.S. Census Bureau’s 2016 estimates.\n"
   ]
  },
  {
   "cell_type": "code",
   "execution_count": 10,
   "metadata": {
    "scrolled": true
   },
   "outputs": [
    {
     "data": {
      "text/plain": [
       "<matplotlib.axes._subplots.AxesSubplot at 0x111525630>"
      ]
     },
     "execution_count": 10,
     "metadata": {},
     "output_type": "execute_result"
    },
    {
     "data": {
      "image/png": "[encoded data removed]",
      "text/plain": [
       "<Figure size 432x288 with 1 Axes>"
      ]
     },
     "metadata": {},
     "output_type": "display_data"
    }
   ],
   "source": [
    "df[df.year == 2016].poverty_rate.hist(bins = 30)"
   ]
  },
  {
   "cell_type": "code",
   "execution_count": 14,
   "metadata": {
    "scrolled": true
   },
   "outputs": [
    {
     "data": {
      "text/plain": [
       "count    2493.000000\n",
       "mean       12.074886\n",
       "std         5.484676\n",
       "min         0.000000\n",
       "25%         8.140000\n",
       "50%        11.210000\n",
       "75%        14.860000\n",
       "max        44.320000\n",
       "Name: poverty_rate, dtype: float64"
      ]
     },
     "execution_count": 14,
     "metadata": {},
     "output_type": "execute_result"
    }
   ],
   "source": [
    "df[df.year == 2016].poverty_rate.describe()"
   ]
  },
  {
   "cell_type": "markdown",
   "metadata": {},
   "source": [
    "As of 2013, there are currently 3,142 counties and county-equivalents in the 50 states and District of Columbia. If the 100 county equivalents in the U.S. territories are counted, then the total is 3,242 counties and county-equivalents in the United States."
   ]
  },
  {
   "cell_type": "code",
   "execution_count": 15,
   "metadata": {
    "scrolled": false
   },
   "outputs": [
    {
     "data": {
      "text/plain": [
       "<matplotlib.axes._subplots.AxesSubplot at 0x114927048>"
      ]
     },
     "execution_count": 15,
     "metadata": {},
     "output_type": "execute_result"
    },
    {
     "data": {
      "image/png": "[encoded data removed]",
      "text/plain": [
       "<Figure size 432x288 with 1 Axes>"
      ]
     },
     "metadata": {},
     "output_type": "display_data"
    }
   ],
   "source": [
    "df[df.year == 2016].median_household_income.hist(bins = 30)"
   ]
  },
  {
   "cell_type": "code",
   "execution_count": 16,
   "metadata": {},
   "outputs": [
    {
     "data": {
      "text/plain": [
       "count      2493.000000\n",
       "mean      46425.501404\n",
       "std       11569.151671\n",
       "min       19328.000000\n",
       "25%       38917.000000\n",
       "50%       44942.000000\n",
       "75%       51830.000000\n",
       "max      123453.000000\n",
       "Name: median_household_income, dtype: float64"
      ]
     },
     "execution_count": 16,
     "metadata": {},
     "output_type": "execute_result"
    }
   ],
   "source": [
    "df[df.year == 2016].median_household_income.describe()"
   ]
  },
  {
   "cell_type": "code",
   "execution_count": 13,
   "metadata": {
    "scrolled": false
   },
   "outputs": [
    {
     "data": {
      "text/plain": [
       "<matplotlib.axes._subplots.AxesSubplot at 0x11489a4e0>"
      ]
     },
     "execution_count": 13,
     "metadata": {},
     "output_type": "execute_result"
    },
    {
     "data": {
      "image/png": "[encoded data removed]",
      "text/plain": [
       "<Figure size 432x288 with 1 Axes>"
      ]
     },
     "metadata": {},
     "output_type": "display_data"
    }
   ],
   "source": [
    "df[df.year == 2016].eviction_rate.hist(bins = 30)"
   ]
  },
  {
   "cell_type": "markdown",
   "metadata": {},
   "source": [
    "# Null hypothesis: eviction rates are the same for the bottom and top 25% poverty rates ( by counties in year 2016 )"
   ]
  },
  {
   "cell_type": "code",
   "execution_count": 17,
   "metadata": {},
   "outputs": [],
   "source": [
    "# Pick 2016 data set by poverty rate, bottom and top 25%\n",
    "df_poverty_low = df[(df.year == 2016) & (df.poverty_rate < 8.14)]\n",
    "df_poverty_high = df[(df.year == 2016) & (df.poverty_rate > 14.86)]"
   ]
  },
  {
   "cell_type": "code",
   "execution_count": 18,
   "metadata": {
    "scrolled": false
   },
   "outputs": [
    {
     "data": {
      "text/plain": [
       "count    623.000000\n",
       "mean       1.117303\n",
       "std        1.276771\n",
       "min        0.000000\n",
       "25%        0.200000\n",
       "50%        0.720000\n",
       "75%        1.585000\n",
       "max        7.930000\n",
       "Name: eviction_rate, dtype: float64"
      ]
     },
     "execution_count": 18,
     "metadata": {},
     "output_type": "execute_result"
    }
   ],
   "source": [
    "df_poverty_low.eviction_rate.describe()"
   ]
  },
  {
   "cell_type": "code",
   "execution_count": 19,
   "metadata": {
    "scrolled": true
   },
   "outputs": [
    {
     "data": {
      "text/plain": [
       "count    623.000000\n",
       "mean       1.861653\n",
       "std        2.531384\n",
       "min        0.000000\n",
       "25%        0.140000\n",
       "50%        1.100000\n",
       "75%        2.435000\n",
       "max       17.560000\n",
       "Name: eviction_rate, dtype: float64"
      ]
     },
     "execution_count": 19,
     "metadata": {},
     "output_type": "execute_result"
    }
   ],
   "source": [
    "df_poverty_high.eviction_rate.describe()"
   ]
  },
  {
   "cell_type": "code",
   "execution_count": 23,
   "metadata": {
    "scrolled": true
   },
   "outputs": [
    {
     "name": "stdout",
     "output_type": "stream",
     "text": [
      "Statistically significant at two tail 95%? True \n",
      " Cohen's d -0.37\n"
     ]
    }
   ],
   "source": [
    "# since the number of total counties of USA is 3142, and the data set contains 2493 counties, \\\n",
    "# so I consider the data set as a sample\n",
    "#two sample t test with pooled variance since 2.531384/1.276771 = 1.98 < 2\n",
    "n1 = df_poverty_low.eviction_rate.count()\n",
    "n2 = df_poverty_high.eviction_rate.count()\n",
    "sp = np.sqrt(( (n1-1)*df_poverty_low.eviction_rate.std()**2 + (n2-1)*df_poverty_high.eviction_rate.std()**2 )/(n1+n2-2) )\n",
    "\n",
    "t = (df_poverty_low.eviction_rate.mean() - df_poverty_high.eviction_rate.mean()) / (sp* np.sqrt(1/n1 + 1/n2))\n",
    "# 95% two tail t score is about 1.962\n",
    "\n",
    "# Cohen's d\n",
    "d = (df_poverty_low.eviction_rate.mean() - df_poverty_high.eviction_rate.mean()) / sp\n",
    "\n",
    "print(\"Statistically significant at two tail 95%? {} \\n Cohen's d {:.2f}\".format(abs(t)>1.96, d) )"
   ]
  },
  {
   "cell_type": "code",
   "execution_count": null,
   "metadata": {},
   "outputs": [],
   "source": []
  },
  {
   "cell_type": "markdown",
   "metadata": {},
   "source": [
    "# Null hypothesis: African American race rates are the same for the bottom and top 25% eviction rates ( by counties in year 2016 )"
   ]
  },
  {
   "cell_type": "code",
   "execution_count": 7,
   "metadata": {
    "scrolled": true
   },
   "outputs": [
    {
     "data": {
      "text/plain": [
       "count    2493.000000\n",
       "mean        1.592631\n",
       "std         1.926662\n",
       "min         0.000000\n",
       "25%         0.270000\n",
       "50%         1.050000\n",
       "75%         2.200000\n",
       "max        17.560000\n",
       "Name: eviction_rate, dtype: float64"
      ]
     },
     "execution_count": 7,
     "metadata": {},
     "output_type": "execute_result"
    }
   ],
   "source": [
    "df[df.year == 2016].eviction_rate.describe()"
   ]
  },
  {
   "cell_type": "code",
   "execution_count": 12,
   "metadata": {},
   "outputs": [],
   "source": [
    "df_evict_low = df[(df.year == 2016) & (df.eviction_rate < 0.27)]\n",
    "df_evict_high = df[(df.year == 2016) & (df.eviction_rate > 2.2)]"
   ]
  },
  {
   "cell_type": "code",
   "execution_count": 13,
   "metadata": {
    "scrolled": true
   },
   "outputs": [
    {
     "data": {
      "text/plain": [
       "count    611.000000\n",
       "mean       7.298347\n",
       "std       14.474661\n",
       "min        0.000000\n",
       "25%        0.270000\n",
       "50%        0.860000\n",
       "75%        5.165000\n",
       "max       85.950000\n",
       "Name: pct_af_am, dtype: float64"
      ]
     },
     "execution_count": 13,
     "metadata": {},
     "output_type": "execute_result"
    }
   ],
   "source": [
    "df_evict_low.pct_af_am.describe()"
   ]
  },
  {
   "cell_type": "code",
   "execution_count": 14,
   "metadata": {
    "scrolled": false
   },
   "outputs": [
    {
     "data": {
      "text/plain": [
       "count    616.000000\n",
       "mean      16.005714\n",
       "std       16.965698\n",
       "min        0.000000\n",
       "25%        2.475000\n",
       "50%        9.570000\n",
       "75%       25.472500\n",
       "max       76.740000\n",
       "Name: pct_af_am, dtype: float64"
      ]
     },
     "execution_count": 14,
     "metadata": {},
     "output_type": "execute_result"
    }
   ],
   "source": [
    "df_evict_high.pct_af_am.describe()"
   ]
  },
  {
   "cell_type": "code",
   "execution_count": 22,
   "metadata": {
    "scrolled": true
   },
   "outputs": [
    {
     "name": "stdout",
     "output_type": "stream",
     "text": [
      "Statistically significant at two tail 95%? True \n",
      " Cohen's d: -0.55\n"
     ]
    }
   ],
   "source": [
    "#pooled variance since ratio = 14.474661/16.965698 >0.5\n",
    "n1 = df_evict_low.eviction_rate.count()\n",
    "n2 = df_evict_high.eviction_rate.count()\n",
    "sp = np.sqrt(( (n1-1)*df_evict_low.pct_af_am.std()**2 + (n2-1)*df_evict_high.pct_af_am.std()**2 )/(n1+n2-2) )\n",
    "\n",
    "t = (df_evict_low.pct_af_am.mean() - df_evict_high.pct_af_am.mean()) / (sp* np.sqrt(1/n1 + 1/n2))\n",
    "# 95% two tail t score is about 1.962\n",
    "\n",
    "# Cohen's d\n",
    "d = (df_evict_low.pct_af_am.mean() - df_evict_high.pct_af_am.mean()) / sp\n",
    "\n",
    "print(\"Statistically significant at two tail 95%? {} \\n Cohen's d: {:.2f}\".format(abs(t)>1.96, d) )"
   ]
  },
  {
   "cell_type": "code",
   "execution_count": 25,
   "metadata": {},
   "outputs": [
    {
     "data": {
      "text/plain": [
       "count    611.000000\n",
       "mean      77.227676\n",
       "std       21.920435\n",
       "min        3.150000\n",
       "25%       64.115000\n",
       "50%       86.480000\n",
       "75%       94.485000\n",
       "max       99.760000\n",
       "Name: pct_white, dtype: float64"
      ]
     },
     "execution_count": 25,
     "metadata": {},
     "output_type": "execute_result"
    }
   ],
   "source": [
    "df_evict_low.pct_white.describe()"
   ]
  },
  {
   "cell_type": "markdown",
   "metadata": {},
   "source": [
    "# How about white race?"
   ]
  },
  {
   "cell_type": "code",
   "execution_count": 26,
   "metadata": {
    "scrolled": true
   },
   "outputs": [
    {
     "data": {
      "text/plain": [
       "count    616.000000\n",
       "mean      72.468328\n",
       "std       19.040230\n",
       "min       10.290000\n",
       "25%       59.995000\n",
       "50%       75.520000\n",
       "75%       89.065000\n",
       "max       98.030000\n",
       "Name: pct_white, dtype: float64"
      ]
     },
     "execution_count": 26,
     "metadata": {},
     "output_type": "execute_result"
    }
   ],
   "source": [
    "df_evict_high.pct_white.describe()"
   ]
  },
  {
   "cell_type": "code",
   "execution_count": 27,
   "metadata": {},
   "outputs": [
    {
     "name": "stdout",
     "output_type": "stream",
     "text": [
      "Statistically significant at two tail 95%? True \n",
      " Cohen's d: 0.23\n"
     ]
    }
   ],
   "source": [
    "#pooled variance since ratio = 14.474661/16.965698 >0.5\n",
    "n1 = df_evict_low.eviction_rate.count()\n",
    "n2 = df_evict_high.eviction_rate.count()\n",
    "sp = np.sqrt(( (n1-1)*df_evict_low.pct_white.std()**2 + (n2-1)*df_evict_high.pct_white.std()**2 )/(n1+n2-2) )\n",
    "\n",
    "t = (df_evict_low.pct_white.mean() - df_evict_high.pct_white.mean()) / (sp* np.sqrt(1/n1 + 1/n2))\n",
    "# 95% two tail t score is about 1.962\n",
    "\n",
    "# Cohen's d\n",
    "d = (df_evict_low.pct_white.mean() - df_evict_high.pct_white.mean()) / sp\n",
    "\n",
    "print(\"Statistically significant at two tail 95%? {} \\n Cohen's d: {:.2f}\".format(abs(t)>1.96, d) )"
   ]
  },
  {
   "cell_type": "markdown",
   "metadata": {},
   "source": [
    "# how about controlled comparisons? Grouped by similar income, education level, and rent burden, would different levels of eviction rates have similar races?"
   ]
  },
  {
   "cell_type": "markdown",
   "metadata": {},
   "source": [
    "# Is there a correlation between high eviction rates with high crime rates in the following years?"
   ]
  },
  {
   "cell_type": "code",
   "execution_count": null,
   "metadata": {},
   "outputs": [],
   "source": [
    "#tbc..."
   ]
  }
 ],
 "metadata": {
  "kernelspec": {
   "display_name": "Python 3",
   "language": "python",
   "name": "python3"
  },
  "language_info": {
   "codemirror_mode": {
    "name": "ipython",
    "version": 3
   },
   "file_extension": ".py",
   "mimetype": "text/x-python",
   "name": "python",
   "nbconvert_exporter": "python",
   "pygments_lexer": "ipython3",
   "version": "3.7.0"
  }
 },
 "nbformat": 4,
 "nbformat_minor": 2
}
